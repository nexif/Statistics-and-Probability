{
 "cells": [
  {
   "cell_type": "code",
   "execution_count": 4,
   "metadata": {},
   "outputs": [
    {
     "data": {
      "text/html": [
       "<img src=\"img/Zestaw2.png\">\n"
      ],
      "text/plain": [
       "<IPython.core.display.HTML object>"
      ]
     },
     "metadata": {},
     "output_type": "display_data"
    }
   ],
   "source": [
    "%%html\n",
    "<img src=\"img/Zestaw2.png\">"
   ]
  },
  {
   "cell_type": "code",
   "execution_count": 10,
   "metadata": {},
   "outputs": [
    {
     "name": "stdout",
     "output_type": "stream",
     "text": [
      "dla N = 10:  3.2\n",
      "dla N = 10:  3.12\n",
      "dla N = 10:  3.116\n",
      "dla N = 10:  3.14144\n"
     ]
    }
   ],
   "source": [
    "import random\n",
    "import math\n",
    "\n",
    "def losuj(n):\n",
    "    a=0\n",
    "    for i in range (1,n):\n",
    "        x = random.random()\n",
    "        y = random.random()\n",
    "        length = math.sqrt(x * x + y * y)\n",
    "        if (length < 1):\n",
    "            a = a+1\n",
    "    P = 4*(a/n)\n",
    "    return P\n",
    "\n",
    "\n",
    "print(\"dla N = 10: \", losuj(10))\n",
    "print(\"dla N = 10: \", losuj(100))\n",
    "print(\"dla N = 10: \", losuj(1000))\n",
    "print(\"dla N = 10: \", losuj(100000))"
   ]
  }
 ],
 "metadata": {
  "kernelspec": {
   "display_name": "Python 3",
   "language": "python",
   "name": "python3"
  },
  "language_info": {
   "codemirror_mode": {
    "name": "ipython",
    "version": 3
   },
   "file_extension": ".py",
   "mimetype": "text/x-python",
   "name": "python",
   "nbconvert_exporter": "python",
   "pygments_lexer": "ipython3",
   "version": "3.7.4"
  }
 },
 "nbformat": 4,
 "nbformat_minor": 2
}
